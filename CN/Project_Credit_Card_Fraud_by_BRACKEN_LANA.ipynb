{
  "nbformat": 4,
  "nbformat_minor": 0,
  "metadata": {
    "colab": {
      "provenance": [],
      "toc_visible": true
    },
    "kernelspec": {
      "name": "python3",
      "display_name": "Python 3"
    },
    "language_info": {
      "name": "python"
    }
  },
  "cells": [
    {
      "cell_type": "markdown",
      "source": [
        "# A Comparative Analysis of Machine Learning Techniques for Credit Card Fraud Detection\n",
        "By Lana Bracken"
      ],
      "metadata": {
        "id": "nToLIDPdXs8L"
      }
    },
    {
      "cell_type": "markdown",
      "source": [
        "## Abstract"
      ],
      "metadata": {
        "id": "auZtiktcbLgT"
      }
    },
    {
      "cell_type": "markdown",
      "source": [
        "This study investigates the effectiveness of machine learning models for credit card fraud detection. I compare the performance of logistic regression, random forest, and neural network models using a provided dataset of transactions labeled as fraudulent or legitimate. My analysis reveals that logistic regression and random forest models outperform the neural network in terms of accuracy, precision, and Area Under the Curve (AUC) score. However, logistic regression emerges as the most effective choice due to its significantly faster training time, a crucial factor for adapting the model to evolving fraud tactics.\n",
        "<br><br>\n",
        "Further analysis of the logistic regression model's coefficients identifies V14, V16, and V3 as the features with the strongest influence on the model's predictions. Interestingly, all three features have negative coefficients, suggesting that higher values of these features are associated with a lower likelihood of fraud being predicted. Additionally, the limited number of features exhibiting a positive relationship with fraud highlights a potential area for improvement in identifying fraudulent transactions.\n",
        "<br><br>\n",
        "These findings suggest that logistic regression is a well-suited model for credit card fraud detection in this scenario, balancing accuracy with fast training times. However, future exploration could involve incorporating additional features or techniques to enhance the model's ability to detect fraudulent activity.\n"
      ],
      "metadata": {
        "id": "Q6RwnKpFYJ6T"
      }
    },
    {
      "cell_type": "markdown",
      "source": [
        "## Introduction\n"
      ],
      "metadata": {
        "id": "eu4k_pwobIgD"
      }
    },
    {
      "cell_type": "markdown",
      "source": [
        "Credit card fraud occurs when someone uses credit card information without permission. There are several ways fraudsters can accomplish this, some of which include the physical card while most of the fraud does not require the card to be present.\n",
        "<br><br>\n",
        "According to Javelin Strategy & Research (2022), credit card fraud resulted in total losses of $38.5 billion in the United States [https://javelinstrategy.com/research]. This financial burden affects companies as well as individuals. The Federal Trade Commission (2024) reported a 53% increase in credit card fraud compared to 2019.\n",
        "<br><br>\n",
        "Machine learning algorithms are a powerful weapon in the fight against credit card fraud. However, choosing the right algorithm is crucial, and ongoing optimization is essential to maintain peak performance. This paper analyzes three algorithms, comparing their effectiveness and execution times. Since speed is vital, it carries much weight when determining the best solution."
      ],
      "metadata": {
        "id": "0RAlG5uMYrNj"
      }
    },
    {
      "cell_type": "markdown",
      "source": [
        "## Literature Review"
      ],
      "metadata": {
        "id": "PpIOCoF_bAob"
      }
    },
    {
      "cell_type": "markdown",
      "source": [
        "Recent research in credit card fraud detection (CCFD) emphasizes the effectiveness of machine learning (ML) and deep learning techniques at identifying fraudulent transactions.  For instance, works by Fu et al. (2016) and Zorion, et al. (2023) achieve high accuracy in credit card fraud detection using deep learning architectures, while acknowledging the challenges of imbalanced datasets common in fraud scenarios.  Additionally, research by Bodepudi (2021) explores unsupervised anomaly detection methods to identify outliers which might represent fraudulent activity.  These studies highlight the opportunities for researchers to continuously develop and refine ML algorithms to combat increasingly sophisticated fraud attempts."
      ],
      "metadata": {
        "id": "Z4oVh_iqY9FK"
      }
    },
    {
      "cell_type": "markdown",
      "source": [
        "## Research Questions"
      ],
      "metadata": {
        "id": "4H47Kw7jbF2z"
      }
    },
    {
      "cell_type": "markdown",
      "source": [
        "1.\tWhat machine learning algorithms perform better at predicting credit card fraud?\n",
        "2.\tWhat three variables contribute the most to the algorithm’s performance?\n",
        "3.\tWhat is the relationship to the dependent variable (Class) of the three most important independent variables? Positive or negative?  \n"
      ],
      "metadata": {
        "id": "562Q4CVpZFib"
      }
    },
    {
      "cell_type": "markdown",
      "source": [
        "## Methodology"
      ],
      "metadata": {
        "id": "kYFg_zPKbg7T"
      }
    },
    {
      "cell_type": "markdown",
      "source": [
        "**Dataset.** The dataset contains a subset of transactions made by European cardholders during September 2013. The original, full-sized dataset was collected during a research collaboration of the Worldline and the Machine Learning Group (http://mlg.ulb.ac.be) and ULB (Université Libre de Bruxelles) on big data mining and fraud detection. The full-sized dataset (N = 284,807) and list of researchers involved is available at https://www.kaggle.com/datasets/mlg-ulb/creditcardfraud. A smaller dataset more amenable to working in Google Colab (N = 10,000) was compiled by Sean Humpherys and includes all the cases of fraud (n = 492) present in the original dataset and a random sampling of non-fraud cases (n = 9508). The dataset is imbalanced with only 4.92% of transactions being fraudlent. The smaller dataset is available at https://raw.githubusercontent.com/sean-humpherys/randomfilestorage/main/cc_transactions_10000.csv <br><br>\n",
        "**Dependent Variable.** The binary dependent variable represents the detection of a fraudulent transaction. A value of 0 represents a non-fraudulent transaction whereas 1 represents a fraudulent transaction. The dependent variable is labeled *Class*.<br><br>\n",
        "**Independent Variables.**\n",
        "*   *Time*: The time difference (in seconds) between the current transaction and the very first transaction in the original dataset.\n",
        "*   *V1* through *V28*: A PCA Dimensionality reduction was performed to protect sensitive features. To protect privacy, the values are meaningless by themselves, but the relationship to the dependent variable is preserved.\n",
        "*   *Amount*: The amount of the credit card transaction in Euros.\n",
        "<br><br>\n",
        "\n",
        "**Algorithms.**\n",
        "\n",
        "*   Logistic Regression: This algorithm classifies data into two categories which are fraudulent and non-fraudulent transactions for this data. This is done by creating a linear relationship between the independent variables and the probability of being fraudulent.\n",
        "*   Random Forest: This algorithm also classifies data into two categories, fraudulent and non-fraudulent transactions. Random Forest utilizes decision trees to make a prediciton on a subset of independent variables. The final prediction is based on the majority of the outcome from all the trees.\n",
        "*   Neural Networks: This algorithm will be used to classify data, but also can be used for regression tasks. Neural Networks are inspired by the human brain. They consist of layers of nodes that process information based on weights and biases. The inner workings are complex and often compared to a black box.\n"
      ],
      "metadata": {
        "id": "V6KyTUMiZlgs"
      }
    },
    {
      "cell_type": "markdown",
      "source": [
        "## Results"
      ],
      "metadata": {
        "id": "2__enqjNa0J8"
      }
    },
    {
      "cell_type": "markdown",
      "source": [
        "After loading the data, a few steps were taken to obtain an overview and understanding of the transactions."
      ],
      "metadata": {
        "id": "Tt6vwjOMGVVH"
      }
    },
    {
      "cell_type": "code",
      "source": [
        "# Load the credit card data\n",
        "import pandas as pd\n",
        "df = pd.read_csv('https://raw.githubusercontent.com/sean-humpherys/randomfilestorage/main/cc_transactions_10000.csv')\n",
        "# show an overview of the data\n",
        "df.describe()"
      ],
      "metadata": {
        "id": "tp9L8-TNYJBL",
        "colab": {
          "base_uri": "https://localhost:8080/",
          "height": 350
        },
        "outputId": "be88d537-2125-4545-b292-a94bf54e8fec"
      },
      "execution_count": null,
      "outputs": [
        {
          "output_type": "execute_result",
          "data": {
            "text/plain": [
              "                Time            V1            V2            V3            V4  \\\n",
              "count   10000.000000  10000.000000  10000.000000  10000.000000  10000.000000   \n",
              "mean    94556.430200     -0.232423      0.179783     -0.357002      0.212654   \n",
              "std     47476.185696      2.591826      1.970276      2.599102      1.802081   \n",
              "min         0.000000    -30.552380    -29.336007    -31.103685     -4.790224   \n",
              "25%     54051.750000     -1.008727     -0.567822     -1.074893     -0.806092   \n",
              "50%     85083.500000     -0.061033      0.111359      0.081684      0.055539   \n",
              "75%    139004.750000      1.281665      0.896952      0.966433      0.900644   \n",
              "max    172768.000000      2.398119     22.057729      3.770236     12.114672   \n",
              "\n",
              "                 V5            V6            V7            V8            V9  \\\n",
              "count  10000.000000  10000.000000  10000.000000  10000.000000  10000.000000   \n",
              "mean      -0.124602     -0.070630     -0.261804      0.034599     -0.111454   \n",
              "std        1.894479      1.400646      2.284173      1.848990      1.333441   \n",
              "min      -22.105532    -17.282140    -43.557242    -41.044261    -13.434066   \n",
              "25%       -0.724259     -0.820519     -0.624710     -0.210099     -0.713535   \n",
              "50%       -0.057702     -0.301126      0.020360      0.030040     -0.075087   \n",
              "75%        0.637133      0.374729      0.576932      0.356684      0.578514   \n",
              "max       28.516513     15.323769     15.915767     20.007208      7.929051   \n",
              "\n",
              "       ...           V21           V22           V23           V24  \\\n",
              "count  ...  10000.000000  10000.000000  10000.000000  10000.000000   \n",
              "mean   ...      0.034720      0.003403     -0.000442     -0.009036   \n",
              "std    ...      1.112734      0.771793      0.637262      0.609786   \n",
              "min    ...    -22.797604     -8.887017    -19.254328     -2.836627   \n",
              "25%    ...     -0.221082     -0.539801     -0.168963     -0.361972   \n",
              "50%    ...     -0.018758      0.008368     -0.012581      0.034864   \n",
              "75%    ...      0.204659      0.525961      0.153982      0.429143   \n",
              "max    ...     27.202839      8.361985     13.750136      3.951679   \n",
              "\n",
              "                V25           V26           V27           V28        Amount  \\\n",
              "count  10000.000000  10000.000000  10000.000000  10000.000000  10000.000000   \n",
              "mean      -0.005892      0.001819      0.009840      0.004504     88.343145   \n",
              "std        0.538342      0.482085      0.484606      0.335693    224.618573   \n",
              "min       -4.781606     -1.535092     -7.263482     -8.307955      0.000000   \n",
              "25%       -0.328923     -0.330272     -0.069869     -0.052267      4.937500   \n",
              "50%        0.017182     -0.048559      0.004797      0.012732     21.000000   \n",
              "75%        0.353553      0.255971      0.106253      0.086981     79.000000   \n",
              "max        2.782860      2.859167      4.610936     15.373170   5627.060000   \n",
              "\n",
              "              Class  \n",
              "count  10000.000000  \n",
              "mean       0.049200  \n",
              "std        0.216296  \n",
              "min        0.000000  \n",
              "25%        0.000000  \n",
              "50%        0.000000  \n",
              "75%        0.000000  \n",
              "max        1.000000  \n",
              "\n",
              "[8 rows x 31 columns]"
            ],
            "text/html": [
              "\n",
              "  <div id=\"df-681b8934-7dd8-4700-a0ff-2e771b434f71\" class=\"colab-df-container\">\n",
              "    <div>\n",
              "<style scoped>\n",
              "    .dataframe tbody tr th:only-of-type {\n",
              "        vertical-align: middle;\n",
              "    }\n",
              "\n",
              "    .dataframe tbody tr th {\n",
              "        vertical-align: top;\n",
              "    }\n",
              "\n",
              "    .dataframe thead th {\n",
              "        text-align: right;\n",
              "    }\n",
              "</style>\n",
              "<table border=\"1\" class=\"dataframe\">\n",
              "  <thead>\n",
              "    <tr style=\"text-align: right;\">\n",
              "      <th></th>\n",
              "      <th>Time</th>\n",
              "      <th>V1</th>\n",
              "      <th>V2</th>\n",
              "      <th>V3</th>\n",
              "      <th>V4</th>\n",
              "      <th>V5</th>\n",
              "      <th>V6</th>\n",
              "      <th>V7</th>\n",
              "      <th>V8</th>\n",
              "      <th>V9</th>\n",
              "      <th>...</th>\n",
              "      <th>V21</th>\n",
              "      <th>V22</th>\n",
              "      <th>V23</th>\n",
              "      <th>V24</th>\n",
              "      <th>V25</th>\n",
              "      <th>V26</th>\n",
              "      <th>V27</th>\n",
              "      <th>V28</th>\n",
              "      <th>Amount</th>\n",
              "      <th>Class</th>\n",
              "    </tr>\n",
              "  </thead>\n",
              "  <tbody>\n",
              "    <tr>\n",
              "      <th>count</th>\n",
              "      <td>10000.000000</td>\n",
              "      <td>10000.000000</td>\n",
              "      <td>10000.000000</td>\n",
              "      <td>10000.000000</td>\n",
              "      <td>10000.000000</td>\n",
              "      <td>10000.000000</td>\n",
              "      <td>10000.000000</td>\n",
              "      <td>10000.000000</td>\n",
              "      <td>10000.000000</td>\n",
              "      <td>10000.000000</td>\n",
              "      <td>...</td>\n",
              "      <td>10000.000000</td>\n",
              "      <td>10000.000000</td>\n",
              "      <td>10000.000000</td>\n",
              "      <td>10000.000000</td>\n",
              "      <td>10000.000000</td>\n",
              "      <td>10000.000000</td>\n",
              "      <td>10000.000000</td>\n",
              "      <td>10000.000000</td>\n",
              "      <td>10000.000000</td>\n",
              "      <td>10000.000000</td>\n",
              "    </tr>\n",
              "    <tr>\n",
              "      <th>mean</th>\n",
              "      <td>94556.430200</td>\n",
              "      <td>-0.232423</td>\n",
              "      <td>0.179783</td>\n",
              "      <td>-0.357002</td>\n",
              "      <td>0.212654</td>\n",
              "      <td>-0.124602</td>\n",
              "      <td>-0.070630</td>\n",
              "      <td>-0.261804</td>\n",
              "      <td>0.034599</td>\n",
              "      <td>-0.111454</td>\n",
              "      <td>...</td>\n",
              "      <td>0.034720</td>\n",
              "      <td>0.003403</td>\n",
              "      <td>-0.000442</td>\n",
              "      <td>-0.009036</td>\n",
              "      <td>-0.005892</td>\n",
              "      <td>0.001819</td>\n",
              "      <td>0.009840</td>\n",
              "      <td>0.004504</td>\n",
              "      <td>88.343145</td>\n",
              "      <td>0.049200</td>\n",
              "    </tr>\n",
              "    <tr>\n",
              "      <th>std</th>\n",
              "      <td>47476.185696</td>\n",
              "      <td>2.591826</td>\n",
              "      <td>1.970276</td>\n",
              "      <td>2.599102</td>\n",
              "      <td>1.802081</td>\n",
              "      <td>1.894479</td>\n",
              "      <td>1.400646</td>\n",
              "      <td>2.284173</td>\n",
              "      <td>1.848990</td>\n",
              "      <td>1.333441</td>\n",
              "      <td>...</td>\n",
              "      <td>1.112734</td>\n",
              "      <td>0.771793</td>\n",
              "      <td>0.637262</td>\n",
              "      <td>0.609786</td>\n",
              "      <td>0.538342</td>\n",
              "      <td>0.482085</td>\n",
              "      <td>0.484606</td>\n",
              "      <td>0.335693</td>\n",
              "      <td>224.618573</td>\n",
              "      <td>0.216296</td>\n",
              "    </tr>\n",
              "    <tr>\n",
              "      <th>min</th>\n",
              "      <td>0.000000</td>\n",
              "      <td>-30.552380</td>\n",
              "      <td>-29.336007</td>\n",
              "      <td>-31.103685</td>\n",
              "      <td>-4.790224</td>\n",
              "      <td>-22.105532</td>\n",
              "      <td>-17.282140</td>\n",
              "      <td>-43.557242</td>\n",
              "      <td>-41.044261</td>\n",
              "      <td>-13.434066</td>\n",
              "      <td>...</td>\n",
              "      <td>-22.797604</td>\n",
              "      <td>-8.887017</td>\n",
              "      <td>-19.254328</td>\n",
              "      <td>-2.836627</td>\n",
              "      <td>-4.781606</td>\n",
              "      <td>-1.535092</td>\n",
              "      <td>-7.263482</td>\n",
              "      <td>-8.307955</td>\n",
              "      <td>0.000000</td>\n",
              "      <td>0.000000</td>\n",
              "    </tr>\n",
              "    <tr>\n",
              "      <th>25%</th>\n",
              "      <td>54051.750000</td>\n",
              "      <td>-1.008727</td>\n",
              "      <td>-0.567822</td>\n",
              "      <td>-1.074893</td>\n",
              "      <td>-0.806092</td>\n",
              "      <td>-0.724259</td>\n",
              "      <td>-0.820519</td>\n",
              "      <td>-0.624710</td>\n",
              "      <td>-0.210099</td>\n",
              "      <td>-0.713535</td>\n",
              "      <td>...</td>\n",
              "      <td>-0.221082</td>\n",
              "      <td>-0.539801</td>\n",
              "      <td>-0.168963</td>\n",
              "      <td>-0.361972</td>\n",
              "      <td>-0.328923</td>\n",
              "      <td>-0.330272</td>\n",
              "      <td>-0.069869</td>\n",
              "      <td>-0.052267</td>\n",
              "      <td>4.937500</td>\n",
              "      <td>0.000000</td>\n",
              "    </tr>\n",
              "    <tr>\n",
              "      <th>50%</th>\n",
              "      <td>85083.500000</td>\n",
              "      <td>-0.061033</td>\n",
              "      <td>0.111359</td>\n",
              "      <td>0.081684</td>\n",
              "      <td>0.055539</td>\n",
              "      <td>-0.057702</td>\n",
              "      <td>-0.301126</td>\n",
              "      <td>0.020360</td>\n",
              "      <td>0.030040</td>\n",
              "      <td>-0.075087</td>\n",
              "      <td>...</td>\n",
              "      <td>-0.018758</td>\n",
              "      <td>0.008368</td>\n",
              "      <td>-0.012581</td>\n",
              "      <td>0.034864</td>\n",
              "      <td>0.017182</td>\n",
              "      <td>-0.048559</td>\n",
              "      <td>0.004797</td>\n",
              "      <td>0.012732</td>\n",
              "      <td>21.000000</td>\n",
              "      <td>0.000000</td>\n",
              "    </tr>\n",
              "    <tr>\n",
              "      <th>75%</th>\n",
              "      <td>139004.750000</td>\n",
              "      <td>1.281665</td>\n",
              "      <td>0.896952</td>\n",
              "      <td>0.966433</td>\n",
              "      <td>0.900644</td>\n",
              "      <td>0.637133</td>\n",
              "      <td>0.374729</td>\n",
              "      <td>0.576932</td>\n",
              "      <td>0.356684</td>\n",
              "      <td>0.578514</td>\n",
              "      <td>...</td>\n",
              "      <td>0.204659</td>\n",
              "      <td>0.525961</td>\n",
              "      <td>0.153982</td>\n",
              "      <td>0.429143</td>\n",
              "      <td>0.353553</td>\n",
              "      <td>0.255971</td>\n",
              "      <td>0.106253</td>\n",
              "      <td>0.086981</td>\n",
              "      <td>79.000000</td>\n",
              "      <td>0.000000</td>\n",
              "    </tr>\n",
              "    <tr>\n",
              "      <th>max</th>\n",
              "      <td>172768.000000</td>\n",
              "      <td>2.398119</td>\n",
              "      <td>22.057729</td>\n",
              "      <td>3.770236</td>\n",
              "      <td>12.114672</td>\n",
              "      <td>28.516513</td>\n",
              "      <td>15.323769</td>\n",
              "      <td>15.915767</td>\n",
              "      <td>20.007208</td>\n",
              "      <td>7.929051</td>\n",
              "      <td>...</td>\n",
              "      <td>27.202839</td>\n",
              "      <td>8.361985</td>\n",
              "      <td>13.750136</td>\n",
              "      <td>3.951679</td>\n",
              "      <td>2.782860</td>\n",
              "      <td>2.859167</td>\n",
              "      <td>4.610936</td>\n",
              "      <td>15.373170</td>\n",
              "      <td>5627.060000</td>\n",
              "      <td>1.000000</td>\n",
              "    </tr>\n",
              "  </tbody>\n",
              "</table>\n",
              "<p>8 rows × 31 columns</p>\n",
              "</div>\n",
              "    <div class=\"colab-df-buttons\">\n",
              "\n",
              "  <div class=\"colab-df-container\">\n",
              "    <button class=\"colab-df-convert\" onclick=\"convertToInteractive('df-681b8934-7dd8-4700-a0ff-2e771b434f71')\"\n",
              "            title=\"Convert this dataframe to an interactive table.\"\n",
              "            style=\"display:none;\">\n",
              "\n",
              "  <svg xmlns=\"http://www.w3.org/2000/svg\" height=\"24px\" viewBox=\"0 -960 960 960\">\n",
              "    <path d=\"M120-120v-720h720v720H120Zm60-500h600v-160H180v160Zm220 220h160v-160H400v160Zm0 220h160v-160H400v160ZM180-400h160v-160H180v160Zm440 0h160v-160H620v160ZM180-180h160v-160H180v160Zm440 0h160v-160H620v160Z\"/>\n",
              "  </svg>\n",
              "    </button>\n",
              "\n",
              "  <style>\n",
              "    .colab-df-container {\n",
              "      display:flex;\n",
              "      gap: 12px;\n",
              "    }\n",
              "\n",
              "    .colab-df-convert {\n",
              "      background-color: #E8F0FE;\n",
              "      border: none;\n",
              "      border-radius: 50%;\n",
              "      cursor: pointer;\n",
              "      display: none;\n",
              "      fill: #1967D2;\n",
              "      height: 32px;\n",
              "      padding: 0 0 0 0;\n",
              "      width: 32px;\n",
              "    }\n",
              "\n",
              "    .colab-df-convert:hover {\n",
              "      background-color: #E2EBFA;\n",
              "      box-shadow: 0px 1px 2px rgba(60, 64, 67, 0.3), 0px 1px 3px 1px rgba(60, 64, 67, 0.15);\n",
              "      fill: #174EA6;\n",
              "    }\n",
              "\n",
              "    .colab-df-buttons div {\n",
              "      margin-bottom: 4px;\n",
              "    }\n",
              "\n",
              "    [theme=dark] .colab-df-convert {\n",
              "      background-color: #3B4455;\n",
              "      fill: #D2E3FC;\n",
              "    }\n",
              "\n",
              "    [theme=dark] .colab-df-convert:hover {\n",
              "      background-color: #434B5C;\n",
              "      box-shadow: 0px 1px 3px 1px rgba(0, 0, 0, 0.15);\n",
              "      filter: drop-shadow(0px 1px 2px rgba(0, 0, 0, 0.3));\n",
              "      fill: #FFFFFF;\n",
              "    }\n",
              "  </style>\n",
              "\n",
              "    <script>\n",
              "      const buttonEl =\n",
              "        document.querySelector('#df-681b8934-7dd8-4700-a0ff-2e771b434f71 button.colab-df-convert');\n",
              "      buttonEl.style.display =\n",
              "        google.colab.kernel.accessAllowed ? 'block' : 'none';\n",
              "\n",
              "      async function convertToInteractive(key) {\n",
              "        const element = document.querySelector('#df-681b8934-7dd8-4700-a0ff-2e771b434f71');\n",
              "        const dataTable =\n",
              "          await google.colab.kernel.invokeFunction('convertToInteractive',\n",
              "                                                    [key], {});\n",
              "        if (!dataTable) return;\n",
              "\n",
              "        const docLinkHtml = 'Like what you see? Visit the ' +\n",
              "          '<a target=\"_blank\" href=https://colab.research.google.com/notebooks/data_table.ipynb>data table notebook</a>'\n",
              "          + ' to learn more about interactive tables.';\n",
              "        element.innerHTML = '';\n",
              "        dataTable['output_type'] = 'display_data';\n",
              "        await google.colab.output.renderOutput(dataTable, element);\n",
              "        const docLink = document.createElement('div');\n",
              "        docLink.innerHTML = docLinkHtml;\n",
              "        element.appendChild(docLink);\n",
              "      }\n",
              "    </script>\n",
              "  </div>\n",
              "\n",
              "\n",
              "<div id=\"df-49a92e77-9cfd-4e11-a931-9cdddc304201\">\n",
              "  <button class=\"colab-df-quickchart\" onclick=\"quickchart('df-49a92e77-9cfd-4e11-a931-9cdddc304201')\"\n",
              "            title=\"Suggest charts\"\n",
              "            style=\"display:none;\">\n",
              "\n",
              "<svg xmlns=\"http://www.w3.org/2000/svg\" height=\"24px\"viewBox=\"0 0 24 24\"\n",
              "     width=\"24px\">\n",
              "    <g>\n",
              "        <path d=\"M19 3H5c-1.1 0-2 .9-2 2v14c0 1.1.9 2 2 2h14c1.1 0 2-.9 2-2V5c0-1.1-.9-2-2-2zM9 17H7v-7h2v7zm4 0h-2V7h2v10zm4 0h-2v-4h2v4z\"/>\n",
              "    </g>\n",
              "</svg>\n",
              "  </button>\n",
              "\n",
              "<style>\n",
              "  .colab-df-quickchart {\n",
              "      --bg-color: #E8F0FE;\n",
              "      --fill-color: #1967D2;\n",
              "      --hover-bg-color: #E2EBFA;\n",
              "      --hover-fill-color: #174EA6;\n",
              "      --disabled-fill-color: #AAA;\n",
              "      --disabled-bg-color: #DDD;\n",
              "  }\n",
              "\n",
              "  [theme=dark] .colab-df-quickchart {\n",
              "      --bg-color: #3B4455;\n",
              "      --fill-color: #D2E3FC;\n",
              "      --hover-bg-color: #434B5C;\n",
              "      --hover-fill-color: #FFFFFF;\n",
              "      --disabled-bg-color: #3B4455;\n",
              "      --disabled-fill-color: #666;\n",
              "  }\n",
              "\n",
              "  .colab-df-quickchart {\n",
              "    background-color: var(--bg-color);\n",
              "    border: none;\n",
              "    border-radius: 50%;\n",
              "    cursor: pointer;\n",
              "    display: none;\n",
              "    fill: var(--fill-color);\n",
              "    height: 32px;\n",
              "    padding: 0;\n",
              "    width: 32px;\n",
              "  }\n",
              "\n",
              "  .colab-df-quickchart:hover {\n",
              "    background-color: var(--hover-bg-color);\n",
              "    box-shadow: 0 1px 2px rgba(60, 64, 67, 0.3), 0 1px 3px 1px rgba(60, 64, 67, 0.15);\n",
              "    fill: var(--button-hover-fill-color);\n",
              "  }\n",
              "\n",
              "  .colab-df-quickchart-complete:disabled,\n",
              "  .colab-df-quickchart-complete:disabled:hover {\n",
              "    background-color: var(--disabled-bg-color);\n",
              "    fill: var(--disabled-fill-color);\n",
              "    box-shadow: none;\n",
              "  }\n",
              "\n",
              "  .colab-df-spinner {\n",
              "    border: 2px solid var(--fill-color);\n",
              "    border-color: transparent;\n",
              "    border-bottom-color: var(--fill-color);\n",
              "    animation:\n",
              "      spin 1s steps(1) infinite;\n",
              "  }\n",
              "\n",
              "  @keyframes spin {\n",
              "    0% {\n",
              "      border-color: transparent;\n",
              "      border-bottom-color: var(--fill-color);\n",
              "      border-left-color: var(--fill-color);\n",
              "    }\n",
              "    20% {\n",
              "      border-color: transparent;\n",
              "      border-left-color: var(--fill-color);\n",
              "      border-top-color: var(--fill-color);\n",
              "    }\n",
              "    30% {\n",
              "      border-color: transparent;\n",
              "      border-left-color: var(--fill-color);\n",
              "      border-top-color: var(--fill-color);\n",
              "      border-right-color: var(--fill-color);\n",
              "    }\n",
              "    40% {\n",
              "      border-color: transparent;\n",
              "      border-right-color: var(--fill-color);\n",
              "      border-top-color: var(--fill-color);\n",
              "    }\n",
              "    60% {\n",
              "      border-color: transparent;\n",
              "      border-right-color: var(--fill-color);\n",
              "    }\n",
              "    80% {\n",
              "      border-color: transparent;\n",
              "      border-right-color: var(--fill-color);\n",
              "      border-bottom-color: var(--fill-color);\n",
              "    }\n",
              "    90% {\n",
              "      border-color: transparent;\n",
              "      border-bottom-color: var(--fill-color);\n",
              "    }\n",
              "  }\n",
              "</style>\n",
              "\n",
              "  <script>\n",
              "    async function quickchart(key) {\n",
              "      const quickchartButtonEl =\n",
              "        document.querySelector('#' + key + ' button');\n",
              "      quickchartButtonEl.disabled = true;  // To prevent multiple clicks.\n",
              "      quickchartButtonEl.classList.add('colab-df-spinner');\n",
              "      try {\n",
              "        const charts = await google.colab.kernel.invokeFunction(\n",
              "            'suggestCharts', [key], {});\n",
              "      } catch (error) {\n",
              "        console.error('Error during call to suggestCharts:', error);\n",
              "      }\n",
              "      quickchartButtonEl.classList.remove('colab-df-spinner');\n",
              "      quickchartButtonEl.classList.add('colab-df-quickchart-complete');\n",
              "    }\n",
              "    (() => {\n",
              "      let quickchartButtonEl =\n",
              "        document.querySelector('#df-49a92e77-9cfd-4e11-a931-9cdddc304201 button');\n",
              "      quickchartButtonEl.style.display =\n",
              "        google.colab.kernel.accessAllowed ? 'block' : 'none';\n",
              "    })();\n",
              "  </script>\n",
              "</div>\n",
              "\n",
              "    </div>\n",
              "  </div>\n"
            ],
            "application/vnd.google.colaboratory.intrinsic+json": {
              "type": "dataframe"
            }
          },
          "metadata": {},
          "execution_count": 1
        }
      ]
    },
    {
      "cell_type": "code",
      "source": [
        "# Statistics for dependent variable - Class\n",
        "class_counts = df['Class'].value_counts(normalize=True) * 100\n",
        "print(class_counts)"
      ],
      "metadata": {
        "colab": {
          "base_uri": "https://localhost:8080/"
        },
        "id": "Rrbp3jC1Xc--",
        "outputId": "d79cba20-7adb-443c-df7d-5a069d453fc3"
      },
      "execution_count": null,
      "outputs": [
        {
          "output_type": "stream",
          "name": "stdout",
          "text": [
            "Class\n",
            "0    95.08\n",
            "1     4.92\n",
            "Name: proportion, dtype: float64\n"
          ]
        }
      ]
    },
    {
      "cell_type": "code",
      "source": [
        "# does df have any null values\n",
        "df.isnull().sum()"
      ],
      "metadata": {
        "colab": {
          "base_uri": "https://localhost:8080/"
        },
        "id": "EmmvOqChRqt8",
        "outputId": "efb64de9-9422-449f-89f5-e03f94207e0a"
      },
      "execution_count": null,
      "outputs": [
        {
          "output_type": "execute_result",
          "data": {
            "text/plain": [
              "Time      0\n",
              "V1        0\n",
              "V2        0\n",
              "V3        0\n",
              "V4        0\n",
              "V5        0\n",
              "V6        0\n",
              "V7        0\n",
              "V8        0\n",
              "V9        0\n",
              "V10       0\n",
              "V11       0\n",
              "V12       0\n",
              "V13       0\n",
              "V14       0\n",
              "V15       0\n",
              "V16       0\n",
              "V17       0\n",
              "V18       0\n",
              "V19       0\n",
              "V20       0\n",
              "V21       0\n",
              "V22       0\n",
              "V23       0\n",
              "V24       0\n",
              "V25       0\n",
              "V26       0\n",
              "V27       0\n",
              "V28       0\n",
              "Amount    0\n",
              "Class     0\n",
              "dtype: int64"
            ]
          },
          "metadata": {},
          "execution_count": 3
        }
      ]
    },
    {
      "cell_type": "markdown",
      "source": [
        "**Descriptive Statistics.**"
      ],
      "metadata": {
        "id": "c2oliojadQM0"
      }
    },
    {
      "cell_type": "markdown",
      "source": [
        "The dataset contains 10,000 transactions, of which 95.08% are non-fraudulent and 4.92% are fraudulent transactions. This equates to 9,508 non-fraudulent and 492 fraudulent transactions. Credit card fraud detection presents a classic case of class imbalance. Fortunately, this imbalance reflects the success of fraud prevention measures. The vast majority of transactions are legitimate, highlighting the effectiveness of existing security protocols. All 31 variables for the 10,000 records contain a value and are not null. The dependent variable (Class) is binary and contains only values of 0 and 1.\n",
        "<br><br>\n",
        "To reduce dimensionality and address potential multicollinearity, a correlation matrix analysis was conducted. Features exhibiting high correlation were removed from the dataset."
      ],
      "metadata": {
        "id": "h4arm7X2sYxP"
      }
    },
    {
      "cell_type": "code",
      "source": [
        "# Calculate the correlation matrix\n",
        "correlation_matrix = df.corr()\n",
        "\n",
        "# Get the highly correlated items\n",
        "highly_correlated_items = []\n",
        "for i in range(len(correlation_matrix.columns)):\n",
        "  for j in range(i + 1, len(correlation_matrix.columns)):\n",
        "    if abs(correlation_matrix.iloc[i, j]) > 0.7:\n",
        "      highly_correlated_items.append((correlation_matrix.columns[i], correlation_matrix.columns[j], correlation_matrix.iloc[i,j]))\n",
        "\n",
        "# Display the highly correlated items\n",
        "print(highly_correlated_items)"
      ],
      "metadata": {
        "colab": {
          "base_uri": "https://localhost:8080/"
        },
        "id": "Mp2lvuiaZZwt",
        "outputId": "d073643b-adbd-4af8-eb8d-24630095f6af"
      },
      "execution_count": null,
      "outputs": [
        {
          "output_type": "stream",
          "name": "stdout",
          "text": [
            "[('V12', 'V14', 0.7108386700133295), ('V12', 'V17', 0.7319343308228563), ('V12', 'Class', -0.7021638604725197), ('V14', 'Class', -0.7554460940445227), ('V16', 'V17', 0.7473165511771639)]\n"
          ]
        }
      ]
    },
    {
      "cell_type": "code",
      "source": [
        "# remove v17 from df since it is highly correlated to V12 and V16\n",
        "df = df.drop('V17', axis=1)\n",
        "#df = df.drop('V16', axis=1)\n",
        "#df = df.drop('V14', axis=1)"
      ],
      "metadata": {
        "id": "MKC1VQDAeRN5"
      },
      "execution_count": null,
      "outputs": []
    },
    {
      "cell_type": "markdown",
      "source": [
        "Highly correlated for this dataset was declared to be greater than +/- .7. Performing the correlation matrix showed that V17 is highly correlated with both V12 (.73) and V16 (.75). V17 was removed from the dataset. One could also experiment removing V12, V14 and/or V16.\n",
        "<br><br>\n",
        "Next, the data was split into a training and test set. Crucially, the test set includes transactions chronologically following the training data."
      ],
      "metadata": {
        "id": "vz4wq9s-5rHD"
      }
    },
    {
      "cell_type": "code",
      "source": [
        "# set decimal places to use\n",
        "dp = 3\n",
        "# Sort df by time in ascending order.\n",
        "df = df.sort_values(by='Time', ascending=True)\n",
        "df.reset_index(inplace=True, drop=True)\n",
        "\n",
        "# Split the data into training and test sets, with the test set containing the last 20% of the data.\n",
        "train_df = df.iloc[:int(len(df) * 0.8)]\n",
        "test_df = df.iloc[int(len(df) * 0.8):]\n",
        "\n",
        "num_train_fraudulent = train_df['Class'].value_counts()[1]\n",
        "num_test_fraudulent = test_df['Class'].value_counts()[1]\n",
        "print(f\"Number of training samples: {len(train_df)}, of which {num_train_fraudulent} are fraudulent\")\n",
        "print(f\"Number of testing samples: {len(test_df)}, of which {num_test_fraudulent} are fraudulent\")\n",
        "\n",
        "proportion_train_fraudulent = round(num_train_fraudulent/len(train_df),dp)\n",
        "proportion_test_fraudulent = round(num_test_fraudulent/len(test_df),dp)\n",
        "\n",
        "print(f\"Proportion of fraudulent transactions in training set: {proportion_train_fraudulent}\")\n",
        "print(f\"Proportion of fraudulent transactions in test set: {proportion_test_fraudulent}\")\n"
      ],
      "metadata": {
        "colab": {
          "base_uri": "https://localhost:8080/"
        },
        "id": "N3tbbg2mCAtV",
        "outputId": "70fca1c3-cf26-4990-f54b-59e17d61ec60"
      },
      "execution_count": null,
      "outputs": [
        {
          "output_type": "stream",
          "name": "stdout",
          "text": [
            "Number of training samples: 8000, of which 417 are fraudulent\n",
            "Number of testing samples: 2000, of which 75 are fraudulent\n",
            "Proportion of fraudulent transactions in training set: 0.052\n",
            "Proportion of fraudulent transactions in test set: 0.038\n"
          ]
        }
      ]
    },
    {
      "cell_type": "markdown",
      "source": [
        "The training set contains 8,000 transactions, of which 417 are fraudulent. The fraudulent transactions represent 5.2% of the training set. The test set contains 2,000 transactions, of which 75 are fraudulent. The fraudulent transactions represent 3.8% of the test set.\n",
        "<br><br>\n",
        "To optimize model performance, the numerical features in both the training and testing sets were scaled. Scaling ensures all features contribute equally to the model's predictions. This is particularly important for algorithms like logistic regression, random forests, and neural networks, which rely on distance calculations or gradient descent for optimization. Unscaled features with significantly different ranges can dominate these algorithms, leading to biased results."
      ],
      "metadata": {
        "id": "pHmH0T_d7Lz7"
      }
    },
    {
      "cell_type": "code",
      "source": [
        "from sklearn.preprocessing import StandardScaler\n",
        "import numpy as np\n",
        "# Scales the numerical features in both training and test datasets\n",
        "def scaleData(train, test):\n",
        "  scaler = StandardScaler()\n",
        "  # Fit the scaler on the combined numerical features from both datasets\n",
        "  combined_features = pd.concat([train, test], ignore_index=True)\n",
        "  scaler.fit(combined_features.select_dtypes(include=[np.number]))\n",
        "\n",
        "  # Transform datasets in-place\n",
        "  train.update(scaler.transform(train.select_dtypes(include=[np.number])))\n",
        "  test.update(scaler.transform(test.select_dtypes(include=[np.number])))\n",
        "\n",
        "  return train, test\n",
        "\n",
        "# scale data\n",
        "train_df, test_df = scaleData(train_df, test_df)"
      ],
      "metadata": {
        "id": "GLSX4w7IVpoN"
      },
      "execution_count": null,
      "outputs": []
    },
    {
      "cell_type": "markdown",
      "source": [
        "To identify the best hyperparameter configurations for each model, GridSearchCV was employed. This technique systematically evaluates a predefined grid of parameter values and selects the combination that yields the best performance on a validation set.  For all models, random_state=0 was set to ensure reproducibility of results across model runs.\n",
        "<br><br>\n",
        "However, it's important to note a special case with logistic regression when using the liblinear solver. This solver inherently shuffles the training data before fitting the model. In fraud detection, the chronological order of transactions can be crucial information. By setting random_state=0 specifically for logistic regression with liblinear, we ensure consistent shuffling across runs, preserving the temporal order of the data within the training set."
      ],
      "metadata": {
        "id": "DP7T_diRIUcv"
      }
    },
    {
      "cell_type": "code",
      "source": [
        "# Logistic Regression\n",
        "from sklearn.linear_model import LogisticRegression\n",
        "from sklearn.metrics import confusion_matrix, accuracy_score\n",
        "from sklearn.metrics import average_precision_score, roc_auc_score\n",
        "import time\n",
        "\n",
        "# Initialize the Logistic Regression model\n",
        "lr_model = LogisticRegression(random_state=0, solver='lbfgs', max_iter= 500)\n",
        "\n",
        "start_time=time.time()\n",
        "# Fit the model on the training data\n",
        "lr_model.fit(train_df.drop('Class', axis=1), train_df['Class'])\n",
        "lr_train_execution_time=round(time.time()-start_time, dp)\n",
        "\n",
        "start_time=time.time()\n",
        "# Predict on the test data\n",
        "lr_predictions = lr_model.predict(test_df.drop('Class', axis=1))\n",
        "lr_prediction_execution_time=round(time.time()-start_time, dp)\n",
        "\n",
        "# Evaluate the model performance\n",
        "print(confusion_matrix(test_df['Class'], lr_predictions))\n",
        "\n",
        "print(f\"Train Execution time: {lr_train_execution_time}\")\n",
        "print(f\"Prediction Execution time: {lr_prediction_execution_time}\")\n",
        "\n",
        "# Calculate the AOC\n",
        "lr_aoc = round(accuracy_score(test_df['Class'], lr_predictions), dp)\n",
        "print(f\"AOC: {lr_aoc}\")\n",
        "\n",
        "# Calculate the average precision\n",
        "lr_average_precision = round(average_precision_score(test_df['Class'], lr_predictions), dp)\n",
        "print(f\"Average precision: {lr_average_precision}\")\n",
        "lr_AUC_ROC = round(roc_auc_score(test_df['Class'], lr_predictions), 3)\n",
        "print(f\"AUC ROC: {lr_AUC_ROC}\")"
      ],
      "metadata": {
        "colab": {
          "base_uri": "https://localhost:8080/"
        },
        "id": "XWcmnb4DaQ95",
        "outputId": "4f142967-c249-416d-c6d6-97d84c43b77c"
      },
      "execution_count": null,
      "outputs": [
        {
          "output_type": "stream",
          "name": "stdout",
          "text": [
            "[[1925    0]\n",
            " [  22   53]]\n",
            "Train Execution time: 0.526\n",
            "Prediction Execution time: 0.01\n",
            "AOC: 0.989\n",
            "Average precision: 0.718\n",
            "AUC ROC: 0.853\n"
          ]
        }
      ]
    },
    {
      "cell_type": "markdown",
      "source": [
        "The logistic regression model achieved promising results in classifying the credit card fraud. An AOC of .989 is very close to 1, which indicates very good performance in classification. The average precision of .718 indicates the model's precision in correctly classifying fraudulent transactions out of all the predicted positives. The confusion matrix indicates the model correctly classified 1,925 legitimate transactions (True Negatives) and 0 fraudulent transactions that were actually legitimate (False Positives). The model also identified 53 fraudulent transactions correctly (True Positive), however it incorrectly classified 22 transactions as legitimate (False Negative). This model needs improvement in reducing False Negatives."
      ],
      "metadata": {
        "id": "_fYefF5NnbZa"
      }
    },
    {
      "cell_type": "code",
      "source": [
        "# Random Forest\n",
        "from sklearn.ensemble import RandomForestClassifier\n",
        "\n",
        "# Initialize the Random Forest model\n",
        "rf_model = RandomForestClassifier(random_state=0, n_estimators=150, max_depth= None, min_samples_leaf = 4, min_samples_split= 2)\n",
        "\n",
        "start_time=time.time()\n",
        "# Fit the model on the training data\n",
        "rf_model.fit(train_df.drop('Class', axis=1), train_df['Class'])\n",
        "rf_train_execution_time=round(time.time()-start_time, dp)\n",
        "\n",
        "start_time=time.time()\n",
        "# Predict on the test data\n",
        "rf_predictions = rf_model.predict(test_df.drop('Class', axis=1))\n",
        "rf_prediction_execution_time=round(time.time()-start_time, 3)\n",
        "\n",
        "# Evaluate the model performance\n",
        "print(confusion_matrix(test_df['Class'], rf_predictions))\n",
        "\n",
        "print(f\"Train Execution time: {rf_train_execution_time}\")\n",
        "print(f\"Prediction Execution time: {rf_prediction_execution_time}\")\n",
        "\n",
        "# Calculate the AOC\n",
        "rf_aoc = round(accuracy_score(test_df['Class'], rf_predictions), 3)\n",
        "print(f\"AOC: {rf_aoc}\")\n",
        "\n",
        "# Calculate the average precision\n",
        "rf_average_precision = round(average_precision_score(test_df['Class'], rf_predictions), 3)\n",
        "print(f\"Average precision: {rf_average_precision}\")\n",
        "rf_AUC_ROC = round(roc_auc_score(test_df['Class'], rf_predictions), 3)\n",
        "print(f\"AUC ROC: {rf_AUC_ROC}\")"
      ],
      "metadata": {
        "colab": {
          "base_uri": "https://localhost:8080/"
        },
        "id": "LPbXzD_EvEDc",
        "outputId": "b6082375-bf5a-4071-ccd3-b45d336319bd"
      },
      "execution_count": null,
      "outputs": [
        {
          "output_type": "stream",
          "name": "stdout",
          "text": [
            "[[1923    2]\n",
            " [  19   56]]\n",
            "Train Execution time: 18.713\n",
            "Prediction Execution time: 0.096\n",
            "AOC: 0.99\n",
            "Average precision: 0.73\n",
            "AUC ROC: 0.873\n"
          ]
        }
      ]
    },
    {
      "cell_type": "markdown",
      "source": [
        "The random forest model demonstrates strong performance in detecting fraudulent transactions by achieving a slightly higher AOC compared to the logistic regression model (0.99 vs 0.989) and a higher AUC (0.8753 vs 0.853). Similar to the logistic regression model, the value of the average precision (0.73) demonstrates good precision in identifying true positives (fraudulent transactions) from predicted positives. The confusion matrix explains the model correctly classified 1,923 legitimate transactions (True Negatives), however it identified 2 fraudulent transactions that were actually legitimate (False Positive). The model correctly classified 56 transactions as legitimate (True  Positive), but incorrectly classified 19 as legitimate instead of fraudulent transactions (False Negative). This model could improve by reducing False Negatives and False Positives."
      ],
      "metadata": {
        "id": "p5hgoxkrn-eA"
      }
    },
    {
      "cell_type": "code",
      "source": [
        "from sklearn import neural_network\n",
        "# Initialize the Logistic Regression model\n",
        "nn_model = neural_network.MLPClassifier(solver='adam', activation='relu', alpha=0.2, hidden_layer_sizes=(16,), random_state=0)\n",
        "\n",
        "start_time=time.time()\n",
        "# Fit the model on the training data\n",
        "nn_model.fit(train_df.drop('Class', axis=1), train_df['Class'])\n",
        "nn_train_execution_time=round(time.time()-start_time, 3)\n",
        "\n",
        "start_time=time.time()\n",
        "# Predict on the test data\n",
        "nn_predictions = nn_model.predict(test_df.drop('Class', axis=1))\n",
        "nn_prediction_execution_time=round(time.time()-start_time, 3)\n",
        "\n",
        "# Evaluate the model performance\n",
        "print(confusion_matrix(test_df['Class'], nn_predictions))\n",
        "\n",
        "print(f\"Train Execution time: {nn_train_execution_time}\")\n",
        "print(f\"Prediction Execution time: {nn_prediction_execution_time}\")\n",
        "\n",
        "# Calculate the AOC\n",
        "nn_aoc = round(accuracy_score(test_df['Class'], nn_predictions), 3)\n",
        "print(f\"AOC: {nn_aoc}\")\n",
        "\n",
        "# Calculate the average precision\n",
        "nn_average_precision = round(average_precision_score(test_df['Class'], nn_predictions), 3)\n",
        "print(f\"Average precision: {nn_average_precision}\")\n",
        "nn_AUC_ROC = round(roc_auc_score(test_df['Class'], nn_predictions), 3)\n",
        "print(f\"AUC ROC: {nn_AUC_ROC}\")\n"
      ],
      "metadata": {
        "colab": {
          "base_uri": "https://localhost:8080/"
        },
        "id": "LiB0MSl8pVJ2",
        "outputId": "682fc7f9-e144-4c0b-ff22-ded682d83b7d"
      },
      "execution_count": null,
      "outputs": [
        {
          "output_type": "stream",
          "name": "stdout",
          "text": [
            "[[1925    0]\n",
            " [  56   19]]\n",
            "Train Execution time: 1.173\n",
            "Prediction Execution time: 0.015\n",
            "AOC: 0.972\n",
            "Average precision: 0.281\n",
            "AUC ROC: 0.627\n"
          ]
        }
      ]
    },
    {
      "cell_type": "markdown",
      "source": [
        "The neural network model achieved a high AOC (0.972) also indicating a good overall ability to distinguish between fraudulent and legitimate transactions. The low average precision of .0281 is concerning. This indicates a high number of False Positives. Restated, of out all the transactions that the model detected as fraud, only 28.1% were actually fraudulent. Having a value of 0.627 for AUC ROC suggests this model might not be significantly better than random guessing to classify fraud. The confusion matrix displays the model correctly identifying all 1,925 legitimate transactions (True Negative). However, the model incorrectly identified 56 as legitimate (False Positive) and only correctly identified 19 transactions as fraudulent (True Positive). This model could improve by reducing False Positives."
      ],
      "metadata": {
        "id": "aZQUYbc1d6cO"
      }
    },
    {
      "cell_type": "markdown",
      "source": [
        "### Results for Research Question 1\n",
        "####Which machine learning models offer the most effective performance for credit card fraud detection?\n",
        "Identifying the most effective machine learning models for credit card fraud detection requires a delicate balance between accurately detecting fraudulent transactions and minimizing false positives (flagging legitimate transactions as fraud).\n"
      ],
      "metadata": {
        "id": "9fvixFQldAS7"
      }
    },
    {
      "cell_type": "markdown",
      "source": [
        "**Performance Metrics**."
      ],
      "metadata": {
        "id": "kUz-EZUyfCXM"
      }
    },
    {
      "cell_type": "markdown",
      "source": [
        "Tables that summarize key performance metrics for each model allows for easy side-by-side comparisons of the models' strengths and weaknesses."
      ],
      "metadata": {
        "id": "QGdVE3XmsdeF"
      }
    },
    {
      "cell_type": "code",
      "source": [
        "# Performance comparisions\n",
        "import pandas as pd\n",
        "model_performance = [\n",
        "    {\"Model\": \"Logistic Regression\", \"AOC\": lr_aoc, \"AUC ROC\": lr_AUC_ROC, \"Average Precision\": lr_average_precision},\n",
        "    {\"Model\": \"Random Forest\", \"AOC\": rf_aoc, \"AUC ROC\": rf_AUC_ROC, \"Average Precision\": rf_average_precision},\n",
        "    {\"Model\": \"Neural Networks\", \"AOC\": nn_aoc, \"AUC ROC\": nn_AUC_ROC, \"Average Precision\": nn_average_precision},\n",
        "]\n",
        "pd.DataFrame(model_performance, index=None)"
      ],
      "metadata": {
        "colab": {
          "base_uri": "https://localhost:8080/",
          "height": 143
        },
        "id": "DxIh61Xz3p-D",
        "outputId": "4d8116ba-f080-4656-f0a2-0e6480aed959"
      },
      "execution_count": null,
      "outputs": [
        {
          "output_type": "execute_result",
          "data": {
            "text/plain": [
              "                 Model    AOC  AUC ROC  Average Precision\n",
              "0  Logistic Regression  0.989    0.853              0.718\n",
              "1        Random Forest  0.990    0.873              0.730\n",
              "2      Neural Networks  0.972    0.627              0.281"
            ],
            "text/html": [
              "\n",
              "  <div id=\"df-bcdf2e5a-8367-48d2-9c81-df6f1455d525\" class=\"colab-df-container\">\n",
              "    <div>\n",
              "<style scoped>\n",
              "    .dataframe tbody tr th:only-of-type {\n",
              "        vertical-align: middle;\n",
              "    }\n",
              "\n",
              "    .dataframe tbody tr th {\n",
              "        vertical-align: top;\n",
              "    }\n",
              "\n",
              "    .dataframe thead th {\n",
              "        text-align: right;\n",
              "    }\n",
              "</style>\n",
              "<table border=\"1\" class=\"dataframe\">\n",
              "  <thead>\n",
              "    <tr style=\"text-align: right;\">\n",
              "      <th></th>\n",
              "      <th>Model</th>\n",
              "      <th>AOC</th>\n",
              "      <th>AUC ROC</th>\n",
              "      <th>Average Precision</th>\n",
              "    </tr>\n",
              "  </thead>\n",
              "  <tbody>\n",
              "    <tr>\n",
              "      <th>0</th>\n",
              "      <td>Logistic Regression</td>\n",
              "      <td>0.989</td>\n",
              "      <td>0.853</td>\n",
              "      <td>0.718</td>\n",
              "    </tr>\n",
              "    <tr>\n",
              "      <th>1</th>\n",
              "      <td>Random Forest</td>\n",
              "      <td>0.990</td>\n",
              "      <td>0.873</td>\n",
              "      <td>0.730</td>\n",
              "    </tr>\n",
              "    <tr>\n",
              "      <th>2</th>\n",
              "      <td>Neural Networks</td>\n",
              "      <td>0.972</td>\n",
              "      <td>0.627</td>\n",
              "      <td>0.281</td>\n",
              "    </tr>\n",
              "  </tbody>\n",
              "</table>\n",
              "</div>\n",
              "    <div class=\"colab-df-buttons\">\n",
              "\n",
              "  <div class=\"colab-df-container\">\n",
              "    <button class=\"colab-df-convert\" onclick=\"convertToInteractive('df-bcdf2e5a-8367-48d2-9c81-df6f1455d525')\"\n",
              "            title=\"Convert this dataframe to an interactive table.\"\n",
              "            style=\"display:none;\">\n",
              "\n",
              "  <svg xmlns=\"http://www.w3.org/2000/svg\" height=\"24px\" viewBox=\"0 -960 960 960\">\n",
              "    <path d=\"M120-120v-720h720v720H120Zm60-500h600v-160H180v160Zm220 220h160v-160H400v160Zm0 220h160v-160H400v160ZM180-400h160v-160H180v160Zm440 0h160v-160H620v160ZM180-180h160v-160H180v160Zm440 0h160v-160H620v160Z\"/>\n",
              "  </svg>\n",
              "    </button>\n",
              "\n",
              "  <style>\n",
              "    .colab-df-container {\n",
              "      display:flex;\n",
              "      gap: 12px;\n",
              "    }\n",
              "\n",
              "    .colab-df-convert {\n",
              "      background-color: #E8F0FE;\n",
              "      border: none;\n",
              "      border-radius: 50%;\n",
              "      cursor: pointer;\n",
              "      display: none;\n",
              "      fill: #1967D2;\n",
              "      height: 32px;\n",
              "      padding: 0 0 0 0;\n",
              "      width: 32px;\n",
              "    }\n",
              "\n",
              "    .colab-df-convert:hover {\n",
              "      background-color: #E2EBFA;\n",
              "      box-shadow: 0px 1px 2px rgba(60, 64, 67, 0.3), 0px 1px 3px 1px rgba(60, 64, 67, 0.15);\n",
              "      fill: #174EA6;\n",
              "    }\n",
              "\n",
              "    .colab-df-buttons div {\n",
              "      margin-bottom: 4px;\n",
              "    }\n",
              "\n",
              "    [theme=dark] .colab-df-convert {\n",
              "      background-color: #3B4455;\n",
              "      fill: #D2E3FC;\n",
              "    }\n",
              "\n",
              "    [theme=dark] .colab-df-convert:hover {\n",
              "      background-color: #434B5C;\n",
              "      box-shadow: 0px 1px 3px 1px rgba(0, 0, 0, 0.15);\n",
              "      filter: drop-shadow(0px 1px 2px rgba(0, 0, 0, 0.3));\n",
              "      fill: #FFFFFF;\n",
              "    }\n",
              "  </style>\n",
              "\n",
              "    <script>\n",
              "      const buttonEl =\n",
              "        document.querySelector('#df-bcdf2e5a-8367-48d2-9c81-df6f1455d525 button.colab-df-convert');\n",
              "      buttonEl.style.display =\n",
              "        google.colab.kernel.accessAllowed ? 'block' : 'none';\n",
              "\n",
              "      async function convertToInteractive(key) {\n",
              "        const element = document.querySelector('#df-bcdf2e5a-8367-48d2-9c81-df6f1455d525');\n",
              "        const dataTable =\n",
              "          await google.colab.kernel.invokeFunction('convertToInteractive',\n",
              "                                                    [key], {});\n",
              "        if (!dataTable) return;\n",
              "\n",
              "        const docLinkHtml = 'Like what you see? Visit the ' +\n",
              "          '<a target=\"_blank\" href=https://colab.research.google.com/notebooks/data_table.ipynb>data table notebook</a>'\n",
              "          + ' to learn more about interactive tables.';\n",
              "        element.innerHTML = '';\n",
              "        dataTable['output_type'] = 'display_data';\n",
              "        await google.colab.output.renderOutput(dataTable, element);\n",
              "        const docLink = document.createElement('div');\n",
              "        docLink.innerHTML = docLinkHtml;\n",
              "        element.appendChild(docLink);\n",
              "      }\n",
              "    </script>\n",
              "  </div>\n",
              "\n",
              "\n",
              "<div id=\"df-bc8664eb-8306-4d18-ad58-045f3c01253f\">\n",
              "  <button class=\"colab-df-quickchart\" onclick=\"quickchart('df-bc8664eb-8306-4d18-ad58-045f3c01253f')\"\n",
              "            title=\"Suggest charts\"\n",
              "            style=\"display:none;\">\n",
              "\n",
              "<svg xmlns=\"http://www.w3.org/2000/svg\" height=\"24px\"viewBox=\"0 0 24 24\"\n",
              "     width=\"24px\">\n",
              "    <g>\n",
              "        <path d=\"M19 3H5c-1.1 0-2 .9-2 2v14c0 1.1.9 2 2 2h14c1.1 0 2-.9 2-2V5c0-1.1-.9-2-2-2zM9 17H7v-7h2v7zm4 0h-2V7h2v10zm4 0h-2v-4h2v4z\"/>\n",
              "    </g>\n",
              "</svg>\n",
              "  </button>\n",
              "\n",
              "<style>\n",
              "  .colab-df-quickchart {\n",
              "      --bg-color: #E8F0FE;\n",
              "      --fill-color: #1967D2;\n",
              "      --hover-bg-color: #E2EBFA;\n",
              "      --hover-fill-color: #174EA6;\n",
              "      --disabled-fill-color: #AAA;\n",
              "      --disabled-bg-color: #DDD;\n",
              "  }\n",
              "\n",
              "  [theme=dark] .colab-df-quickchart {\n",
              "      --bg-color: #3B4455;\n",
              "      --fill-color: #D2E3FC;\n",
              "      --hover-bg-color: #434B5C;\n",
              "      --hover-fill-color: #FFFFFF;\n",
              "      --disabled-bg-color: #3B4455;\n",
              "      --disabled-fill-color: #666;\n",
              "  }\n",
              "\n",
              "  .colab-df-quickchart {\n",
              "    background-color: var(--bg-color);\n",
              "    border: none;\n",
              "    border-radius: 50%;\n",
              "    cursor: pointer;\n",
              "    display: none;\n",
              "    fill: var(--fill-color);\n",
              "    height: 32px;\n",
              "    padding: 0;\n",
              "    width: 32px;\n",
              "  }\n",
              "\n",
              "  .colab-df-quickchart:hover {\n",
              "    background-color: var(--hover-bg-color);\n",
              "    box-shadow: 0 1px 2px rgba(60, 64, 67, 0.3), 0 1px 3px 1px rgba(60, 64, 67, 0.15);\n",
              "    fill: var(--button-hover-fill-color);\n",
              "  }\n",
              "\n",
              "  .colab-df-quickchart-complete:disabled,\n",
              "  .colab-df-quickchart-complete:disabled:hover {\n",
              "    background-color: var(--disabled-bg-color);\n",
              "    fill: var(--disabled-fill-color);\n",
              "    box-shadow: none;\n",
              "  }\n",
              "\n",
              "  .colab-df-spinner {\n",
              "    border: 2px solid var(--fill-color);\n",
              "    border-color: transparent;\n",
              "    border-bottom-color: var(--fill-color);\n",
              "    animation:\n",
              "      spin 1s steps(1) infinite;\n",
              "  }\n",
              "\n",
              "  @keyframes spin {\n",
              "    0% {\n",
              "      border-color: transparent;\n",
              "      border-bottom-color: var(--fill-color);\n",
              "      border-left-color: var(--fill-color);\n",
              "    }\n",
              "    20% {\n",
              "      border-color: transparent;\n",
              "      border-left-color: var(--fill-color);\n",
              "      border-top-color: var(--fill-color);\n",
              "    }\n",
              "    30% {\n",
              "      border-color: transparent;\n",
              "      border-left-color: var(--fill-color);\n",
              "      border-top-color: var(--fill-color);\n",
              "      border-right-color: var(--fill-color);\n",
              "    }\n",
              "    40% {\n",
              "      border-color: transparent;\n",
              "      border-right-color: var(--fill-color);\n",
              "      border-top-color: var(--fill-color);\n",
              "    }\n",
              "    60% {\n",
              "      border-color: transparent;\n",
              "      border-right-color: var(--fill-color);\n",
              "    }\n",
              "    80% {\n",
              "      border-color: transparent;\n",
              "      border-right-color: var(--fill-color);\n",
              "      border-bottom-color: var(--fill-color);\n",
              "    }\n",
              "    90% {\n",
              "      border-color: transparent;\n",
              "      border-bottom-color: var(--fill-color);\n",
              "    }\n",
              "  }\n",
              "</style>\n",
              "\n",
              "  <script>\n",
              "    async function quickchart(key) {\n",
              "      const quickchartButtonEl =\n",
              "        document.querySelector('#' + key + ' button');\n",
              "      quickchartButtonEl.disabled = true;  // To prevent multiple clicks.\n",
              "      quickchartButtonEl.classList.add('colab-df-spinner');\n",
              "      try {\n",
              "        const charts = await google.colab.kernel.invokeFunction(\n",
              "            'suggestCharts', [key], {});\n",
              "      } catch (error) {\n",
              "        console.error('Error during call to suggestCharts:', error);\n",
              "      }\n",
              "      quickchartButtonEl.classList.remove('colab-df-spinner');\n",
              "      quickchartButtonEl.classList.add('colab-df-quickchart-complete');\n",
              "    }\n",
              "    (() => {\n",
              "      let quickchartButtonEl =\n",
              "        document.querySelector('#df-bc8664eb-8306-4d18-ad58-045f3c01253f button');\n",
              "      quickchartButtonEl.style.display =\n",
              "        google.colab.kernel.accessAllowed ? 'block' : 'none';\n",
              "    })();\n",
              "  </script>\n",
              "</div>\n",
              "\n",
              "    </div>\n",
              "  </div>\n"
            ],
            "application/vnd.google.colaboratory.intrinsic+json": {
              "type": "dataframe",
              "summary": "{\n  \"name\": \"pd\",\n  \"rows\": 3,\n  \"fields\": [\n    {\n      \"column\": \"Model\",\n      \"properties\": {\n        \"dtype\": \"string\",\n        \"num_unique_values\": 3,\n        \"samples\": [\n          \"Logistic Regression\",\n          \"Random Forest\",\n          \"Neural Networks\"\n        ],\n        \"semantic_type\": \"\",\n        \"description\": \"\"\n      }\n    },\n    {\n      \"column\": \"AOC\",\n      \"properties\": {\n        \"dtype\": \"number\",\n        \"std\": 0.010115993936995688,\n        \"min\": 0.972,\n        \"max\": 0.99,\n        \"num_unique_values\": 3,\n        \"samples\": [\n          0.989,\n          0.99,\n          0.972\n        ],\n        \"semantic_type\": \"\",\n        \"description\": \"\"\n      }\n    },\n    {\n      \"column\": \"AUC ROC\",\n      \"properties\": {\n        \"dtype\": \"number\",\n        \"std\": 0.13662113062529285,\n        \"min\": 0.627,\n        \"max\": 0.873,\n        \"num_unique_values\": 3,\n        \"samples\": [\n          0.853,\n          0.873,\n          0.627\n        ],\n        \"semantic_type\": \"\",\n        \"description\": \"\"\n      }\n    },\n    {\n      \"column\": \"Average Precision\",\n      \"properties\": {\n        \"dtype\": \"number\",\n        \"std\": 0.25583653635345616,\n        \"min\": 0.281,\n        \"max\": 0.73,\n        \"num_unique_values\": 3,\n        \"samples\": [\n          0.718,\n          0.73,\n          0.281\n        ],\n        \"semantic_type\": \"\",\n        \"description\": \"\"\n      }\n    }\n  ]\n}"
            }
          },
          "metadata": {},
          "execution_count": 11
        }
      ]
    },
    {
      "cell_type": "code",
      "source": [
        "# Execution time comparisions\n",
        "import pandas as pd\n",
        "model_execution = [\n",
        "    {\"Model\": \"Logistic Regression\", \"Train Time\": lr_train_execution_time, \"Prediction Time\": lr_prediction_execution_time},\n",
        "    {\"Model\": \"Random Forest\", \"Train Time\": rf_train_execution_time, \"Prediction Time\": rf_prediction_execution_time},\n",
        "    {\"Model\": \"Neural Networks\", \"Train Time\": nn_train_execution_time, \"Prediction Time\": nn_prediction_execution_time},\n",
        "]\n",
        "pd.DataFrame(model_execution, index=None)"
      ],
      "metadata": {
        "colab": {
          "base_uri": "https://localhost:8080/",
          "height": 143
        },
        "id": "Fj_mnKGE1Och",
        "outputId": "520664c5-4e1e-4ee5-9df0-2b14743aa5d4"
      },
      "execution_count": null,
      "outputs": [
        {
          "output_type": "execute_result",
          "data": {
            "text/plain": [
              "                 Model  Train Time  Prediction Time\n",
              "0  Logistic Regression       0.526            0.010\n",
              "1        Random Forest      18.713            0.096\n",
              "2      Neural Networks       1.173            0.015"
            ],
            "text/html": [
              "\n",
              "  <div id=\"df-02c191e8-d900-440b-b6c7-2d8a09b323ee\" class=\"colab-df-container\">\n",
              "    <div>\n",
              "<style scoped>\n",
              "    .dataframe tbody tr th:only-of-type {\n",
              "        vertical-align: middle;\n",
              "    }\n",
              "\n",
              "    .dataframe tbody tr th {\n",
              "        vertical-align: top;\n",
              "    }\n",
              "\n",
              "    .dataframe thead th {\n",
              "        text-align: right;\n",
              "    }\n",
              "</style>\n",
              "<table border=\"1\" class=\"dataframe\">\n",
              "  <thead>\n",
              "    <tr style=\"text-align: right;\">\n",
              "      <th></th>\n",
              "      <th>Model</th>\n",
              "      <th>Train Time</th>\n",
              "      <th>Prediction Time</th>\n",
              "    </tr>\n",
              "  </thead>\n",
              "  <tbody>\n",
              "    <tr>\n",
              "      <th>0</th>\n",
              "      <td>Logistic Regression</td>\n",
              "      <td>0.526</td>\n",
              "      <td>0.010</td>\n",
              "    </tr>\n",
              "    <tr>\n",
              "      <th>1</th>\n",
              "      <td>Random Forest</td>\n",
              "      <td>18.713</td>\n",
              "      <td>0.096</td>\n",
              "    </tr>\n",
              "    <tr>\n",
              "      <th>2</th>\n",
              "      <td>Neural Networks</td>\n",
              "      <td>1.173</td>\n",
              "      <td>0.015</td>\n",
              "    </tr>\n",
              "  </tbody>\n",
              "</table>\n",
              "</div>\n",
              "    <div class=\"colab-df-buttons\">\n",
              "\n",
              "  <div class=\"colab-df-container\">\n",
              "    <button class=\"colab-df-convert\" onclick=\"convertToInteractive('df-02c191e8-d900-440b-b6c7-2d8a09b323ee')\"\n",
              "            title=\"Convert this dataframe to an interactive table.\"\n",
              "            style=\"display:none;\">\n",
              "\n",
              "  <svg xmlns=\"http://www.w3.org/2000/svg\" height=\"24px\" viewBox=\"0 -960 960 960\">\n",
              "    <path d=\"M120-120v-720h720v720H120Zm60-500h600v-160H180v160Zm220 220h160v-160H400v160Zm0 220h160v-160H400v160ZM180-400h160v-160H180v160Zm440 0h160v-160H620v160ZM180-180h160v-160H180v160Zm440 0h160v-160H620v160Z\"/>\n",
              "  </svg>\n",
              "    </button>\n",
              "\n",
              "  <style>\n",
              "    .colab-df-container {\n",
              "      display:flex;\n",
              "      gap: 12px;\n",
              "    }\n",
              "\n",
              "    .colab-df-convert {\n",
              "      background-color: #E8F0FE;\n",
              "      border: none;\n",
              "      border-radius: 50%;\n",
              "      cursor: pointer;\n",
              "      display: none;\n",
              "      fill: #1967D2;\n",
              "      height: 32px;\n",
              "      padding: 0 0 0 0;\n",
              "      width: 32px;\n",
              "    }\n",
              "\n",
              "    .colab-df-convert:hover {\n",
              "      background-color: #E2EBFA;\n",
              "      box-shadow: 0px 1px 2px rgba(60, 64, 67, 0.3), 0px 1px 3px 1px rgba(60, 64, 67, 0.15);\n",
              "      fill: #174EA6;\n",
              "    }\n",
              "\n",
              "    .colab-df-buttons div {\n",
              "      margin-bottom: 4px;\n",
              "    }\n",
              "\n",
              "    [theme=dark] .colab-df-convert {\n",
              "      background-color: #3B4455;\n",
              "      fill: #D2E3FC;\n",
              "    }\n",
              "\n",
              "    [theme=dark] .colab-df-convert:hover {\n",
              "      background-color: #434B5C;\n",
              "      box-shadow: 0px 1px 3px 1px rgba(0, 0, 0, 0.15);\n",
              "      filter: drop-shadow(0px 1px 2px rgba(0, 0, 0, 0.3));\n",
              "      fill: #FFFFFF;\n",
              "    }\n",
              "  </style>\n",
              "\n",
              "    <script>\n",
              "      const buttonEl =\n",
              "        document.querySelector('#df-02c191e8-d900-440b-b6c7-2d8a09b323ee button.colab-df-convert');\n",
              "      buttonEl.style.display =\n",
              "        google.colab.kernel.accessAllowed ? 'block' : 'none';\n",
              "\n",
              "      async function convertToInteractive(key) {\n",
              "        const element = document.querySelector('#df-02c191e8-d900-440b-b6c7-2d8a09b323ee');\n",
              "        const dataTable =\n",
              "          await google.colab.kernel.invokeFunction('convertToInteractive',\n",
              "                                                    [key], {});\n",
              "        if (!dataTable) return;\n",
              "\n",
              "        const docLinkHtml = 'Like what you see? Visit the ' +\n",
              "          '<a target=\"_blank\" href=https://colab.research.google.com/notebooks/data_table.ipynb>data table notebook</a>'\n",
              "          + ' to learn more about interactive tables.';\n",
              "        element.innerHTML = '';\n",
              "        dataTable['output_type'] = 'display_data';\n",
              "        await google.colab.output.renderOutput(dataTable, element);\n",
              "        const docLink = document.createElement('div');\n",
              "        docLink.innerHTML = docLinkHtml;\n",
              "        element.appendChild(docLink);\n",
              "      }\n",
              "    </script>\n",
              "  </div>\n",
              "\n",
              "\n",
              "<div id=\"df-3ffc84ff-cfd9-4d5a-8ea5-d57e6167718e\">\n",
              "  <button class=\"colab-df-quickchart\" onclick=\"quickchart('df-3ffc84ff-cfd9-4d5a-8ea5-d57e6167718e')\"\n",
              "            title=\"Suggest charts\"\n",
              "            style=\"display:none;\">\n",
              "\n",
              "<svg xmlns=\"http://www.w3.org/2000/svg\" height=\"24px\"viewBox=\"0 0 24 24\"\n",
              "     width=\"24px\">\n",
              "    <g>\n",
              "        <path d=\"M19 3H5c-1.1 0-2 .9-2 2v14c0 1.1.9 2 2 2h14c1.1 0 2-.9 2-2V5c0-1.1-.9-2-2-2zM9 17H7v-7h2v7zm4 0h-2V7h2v10zm4 0h-2v-4h2v4z\"/>\n",
              "    </g>\n",
              "</svg>\n",
              "  </button>\n",
              "\n",
              "<style>\n",
              "  .colab-df-quickchart {\n",
              "      --bg-color: #E8F0FE;\n",
              "      --fill-color: #1967D2;\n",
              "      --hover-bg-color: #E2EBFA;\n",
              "      --hover-fill-color: #174EA6;\n",
              "      --disabled-fill-color: #AAA;\n",
              "      --disabled-bg-color: #DDD;\n",
              "  }\n",
              "\n",
              "  [theme=dark] .colab-df-quickchart {\n",
              "      --bg-color: #3B4455;\n",
              "      --fill-color: #D2E3FC;\n",
              "      --hover-bg-color: #434B5C;\n",
              "      --hover-fill-color: #FFFFFF;\n",
              "      --disabled-bg-color: #3B4455;\n",
              "      --disabled-fill-color: #666;\n",
              "  }\n",
              "\n",
              "  .colab-df-quickchart {\n",
              "    background-color: var(--bg-color);\n",
              "    border: none;\n",
              "    border-radius: 50%;\n",
              "    cursor: pointer;\n",
              "    display: none;\n",
              "    fill: var(--fill-color);\n",
              "    height: 32px;\n",
              "    padding: 0;\n",
              "    width: 32px;\n",
              "  }\n",
              "\n",
              "  .colab-df-quickchart:hover {\n",
              "    background-color: var(--hover-bg-color);\n",
              "    box-shadow: 0 1px 2px rgba(60, 64, 67, 0.3), 0 1px 3px 1px rgba(60, 64, 67, 0.15);\n",
              "    fill: var(--button-hover-fill-color);\n",
              "  }\n",
              "\n",
              "  .colab-df-quickchart-complete:disabled,\n",
              "  .colab-df-quickchart-complete:disabled:hover {\n",
              "    background-color: var(--disabled-bg-color);\n",
              "    fill: var(--disabled-fill-color);\n",
              "    box-shadow: none;\n",
              "  }\n",
              "\n",
              "  .colab-df-spinner {\n",
              "    border: 2px solid var(--fill-color);\n",
              "    border-color: transparent;\n",
              "    border-bottom-color: var(--fill-color);\n",
              "    animation:\n",
              "      spin 1s steps(1) infinite;\n",
              "  }\n",
              "\n",
              "  @keyframes spin {\n",
              "    0% {\n",
              "      border-color: transparent;\n",
              "      border-bottom-color: var(--fill-color);\n",
              "      border-left-color: var(--fill-color);\n",
              "    }\n",
              "    20% {\n",
              "      border-color: transparent;\n",
              "      border-left-color: var(--fill-color);\n",
              "      border-top-color: var(--fill-color);\n",
              "    }\n",
              "    30% {\n",
              "      border-color: transparent;\n",
              "      border-left-color: var(--fill-color);\n",
              "      border-top-color: var(--fill-color);\n",
              "      border-right-color: var(--fill-color);\n",
              "    }\n",
              "    40% {\n",
              "      border-color: transparent;\n",
              "      border-right-color: var(--fill-color);\n",
              "      border-top-color: var(--fill-color);\n",
              "    }\n",
              "    60% {\n",
              "      border-color: transparent;\n",
              "      border-right-color: var(--fill-color);\n",
              "    }\n",
              "    80% {\n",
              "      border-color: transparent;\n",
              "      border-right-color: var(--fill-color);\n",
              "      border-bottom-color: var(--fill-color);\n",
              "    }\n",
              "    90% {\n",
              "      border-color: transparent;\n",
              "      border-bottom-color: var(--fill-color);\n",
              "    }\n",
              "  }\n",
              "</style>\n",
              "\n",
              "  <script>\n",
              "    async function quickchart(key) {\n",
              "      const quickchartButtonEl =\n",
              "        document.querySelector('#' + key + ' button');\n",
              "      quickchartButtonEl.disabled = true;  // To prevent multiple clicks.\n",
              "      quickchartButtonEl.classList.add('colab-df-spinner');\n",
              "      try {\n",
              "        const charts = await google.colab.kernel.invokeFunction(\n",
              "            'suggestCharts', [key], {});\n",
              "      } catch (error) {\n",
              "        console.error('Error during call to suggestCharts:', error);\n",
              "      }\n",
              "      quickchartButtonEl.classList.remove('colab-df-spinner');\n",
              "      quickchartButtonEl.classList.add('colab-df-quickchart-complete');\n",
              "    }\n",
              "    (() => {\n",
              "      let quickchartButtonEl =\n",
              "        document.querySelector('#df-3ffc84ff-cfd9-4d5a-8ea5-d57e6167718e button');\n",
              "      quickchartButtonEl.style.display =\n",
              "        google.colab.kernel.accessAllowed ? 'block' : 'none';\n",
              "    })();\n",
              "  </script>\n",
              "</div>\n",
              "\n",
              "    </div>\n",
              "  </div>\n"
            ],
            "application/vnd.google.colaboratory.intrinsic+json": {
              "type": "dataframe",
              "summary": "{\n  \"name\": \"pd\",\n  \"rows\": 3,\n  \"fields\": [\n    {\n      \"column\": \"Model\",\n      \"properties\": {\n        \"dtype\": \"string\",\n        \"num_unique_values\": 3,\n        \"samples\": [\n          \"Logistic Regression\",\n          \"Random Forest\",\n          \"Neural Networks\"\n        ],\n        \"semantic_type\": \"\",\n        \"description\": \"\"\n      }\n    },\n    {\n      \"column\": \"Train Time\",\n      \"properties\": {\n        \"dtype\": \"number\",\n        \"std\": 10.31856884456367,\n        \"min\": 0.526,\n        \"max\": 18.713,\n        \"num_unique_values\": 3,\n        \"samples\": [\n          0.526,\n          18.713,\n          1.173\n        ],\n        \"semantic_type\": \"\",\n        \"description\": \"\"\n      }\n    },\n    {\n      \"column\": \"Prediction Time\",\n      \"properties\": {\n        \"dtype\": \"number\",\n        \"std\": 0.04827352621606726,\n        \"min\": 0.01,\n        \"max\": 0.096,\n        \"num_unique_values\": 3,\n        \"samples\": [\n          0.01,\n          0.096,\n          0.015\n        ],\n        \"semantic_type\": \"\",\n        \"description\": \"\"\n      }\n    }\n  ]\n}"
            }
          },
          "metadata": {},
          "execution_count": 12
        }
      ]
    },
    {
      "cell_type": "markdown",
      "source": [
        "Generating a confusion matrix for each model in a graphical form visually shows the number of True Positives (correctly identified fraud), True Negatives (correctly identified legitimate transactions), False Positives (legitimate transactions flagged as fraud), and False Negatives (missed fraud).  "
      ],
      "metadata": {
        "id": "pz6Yqx_usooQ"
      }
    },
    {
      "cell_type": "code",
      "source": [
        "# Display confusion matrix for each model\n",
        "import seaborn as sns\n",
        "import matplotlib.pyplot as plt\n",
        "\n",
        "# Initialize the figure with subplots\n",
        "fig, axes = plt.subplots(nrows=1, ncols=3, figsize=(15, 5))\n",
        "\n",
        "# Define function to plot confusion matrix\n",
        "def plot_confusion_matrix(y_true, y_pred, ax):\n",
        "    sns.heatmap(confusion_matrix(y_true, y_pred), annot=True, fmt=\"d\", ax=ax)\n",
        "    ax.set_xlabel(\"Predicted label\")\n",
        "    ax.set_ylabel(\"True label\")\n",
        "\n",
        "# Plot each model's confusion matrix\n",
        "plot_confusion_matrix(test_df['Class'], lr_predictions, axes[0])\n",
        "axes[0].set_title(\"Logistic Regression\")\n",
        "\n",
        "plot_confusion_matrix(test_df['Class'], rf_predictions, axes[1])\n",
        "axes[1].set_title(\"Random Forest\")\n",
        "\n",
        "plot_confusion_matrix(test_df['Class'], nn_predictions, axes[2])\n",
        "axes[2].set_title(\"Neural Networks\")\n",
        "\n",
        "plt.show()"
      ],
      "metadata": {
        "colab": {
          "base_uri": "https://localhost:8080/",
          "height": 487
        },
        "id": "1fv4XwB_4XYG",
        "outputId": "2a46897a-5a9f-449a-c857-9b345c679541"
      },
      "execution_count": null,
      "outputs": [
        {
          "output_type": "display_data",
          "data": {
            "text/plain": [
              "<Figure size 1500x500 with 6 Axes>"
            ],
            "image/png": "[encoded data removed]"
          },
          "metadata": {}
        }
      ]
    },
    {
      "cell_type": "markdown",
      "source": [
        "Plot Precision-Recall Curves (PRC) and Receiver Operating Characteristic (ROC) curves for each model. These curves provide additional insights into the model's performance trade-offs. The PRC shows the relationship between precision (reducing false positives) and recall (catching fraud). The ROC curve depicts the model's ability to distinguish between classes (fraudulent vs. legitimate) at various thresholds."
      ],
      "metadata": {
        "id": "6DDvIcCGt-41"
      }
    },
    {
      "cell_type": "code",
      "source": [
        "import matplotlib.pyplot as plt\n",
        "from sklearn.metrics import precision_recall_curve\n",
        "from sklearn.metrics import roc_curve\n",
        "\n",
        "# Calculate the ROC curves and AUC metrics for each model\n",
        "lr_fpr, lr_tpr, _ = roc_curve(test_df['Class'], lr_predictions)\n",
        "rf_fpr, rf_tpr, _ = roc_curve(test_df['Class'], rf_predictions)\n",
        "nn_fpr, nn_tpr, _ = roc_curve(test_df['Class'], nn_predictions)\n",
        "\n",
        "# Calculate the precision-recall curves and average precision scores\n",
        "lr_precision, lr_recall, _ = precision_recall_curve(test_df['Class'], lr_predictions)\n",
        "rf_precision, rf_recall, _ = precision_recall_curve(test_df['Class'], rf_predictions)\n",
        "nn_precision, nn_recall, _ = precision_recall_curve(test_df['Class'], nn_predictions)\n",
        "\n",
        "# Plot the ROC curves\n",
        "plt.figure(figsize=(10, 7))\n",
        "plt.plot(lr_fpr, lr_tpr, label=f'Logistic Regression (AUC = {lr_AUC_ROC:.3f})')\n",
        "plt.plot(rf_fpr, rf_tpr, label=f'Random Forest (AUC = {rf_AUC_ROC:.3f})')\n",
        "plt.plot(nn_fpr, nn_tpr, label=f'Neural Networks (AUC = {nn_AUC_ROC:.3f})')\n",
        "\n",
        "plt.plot([0, 1], [0, 1], color='navy', lw=2, linestyle='--')\n",
        "plt.xlim([0.0, 1.0])\n",
        "plt.ylim([0.0, 1.05])\n",
        "plt.xlabel('False Positive Rate')\n",
        "plt.ylabel('True Positive Rate')\n",
        "plt.title('ROC Curves')\n",
        "plt.legend(loc='lower right')\n",
        "plt.show()\n",
        "\n",
        "# Plot the precision-recall curves\n",
        "plt.figure(figsize=(10, 7))\n",
        "plt.plot(lr_recall, lr_precision, label=f'Logistic Regression (Average Precision = {lr_average_precision:.3f})')\n",
        "plt.plot(rf_recall, rf_precision, label=f'Random Forest (Average Precision = {rf_average_precision:.3f})')\n",
        "plt.plot(nn_recall, nn_precision, label=f'Neural Networks (Average Precision = {nn_average_precision:.3f})')\n",
        "\n",
        "plt.xlim([0.0, 1.0])\n",
        "plt.ylim([0.0, 1.05])\n",
        "plt.xlabel('Recall')\n",
        "plt.ylabel('Precision')\n",
        "plt.title('Precision-Recall Curves')\n",
        "plt.legend(loc='lower left')\n",
        "plt.show()\n"
      ],
      "metadata": {
        "colab": {
          "base_uri": "https://localhost:8080/",
          "height": 1000
        },
        "id": "MRfeEFQqQLvp",
        "outputId": "0b844166-eac1-4c17-9baa-83f6a6fd4f48"
      },
      "execution_count": null,
      "outputs": [
        {
          "output_type": "display_data",
          "data": {
            "text/plain": [
              "<Figure size 1000x700 with 1 Axes>"
            ],
            "image/png": "[encoded data removed]"
          },
          "metadata": {}
        },
        {
          "output_type": "display_data",
          "data": {
            "text/plain": [
              "<Figure size 1000x700 with 1 Axes>"
            ],
            "image/png": "[encoded data removed]"
          },
          "metadata": {}
        }
      ]
    },
    {
      "cell_type": "markdown",
      "source": [
        "My analysis of the logistic regression, random forest, and neural network models for credit card fraud detection reveals that logistic regression and random forest outperform the neural network. This conclusion is based on the provided training and test datasets, chosen hyperparameters, and the resulting model statistics.\n",
        "<br><br>\n",
        "While both logistic regression and random forest achieve high AOC scores (0.989 and 0.99, respectively), and random forest has a higher AUC than logistic regression (0.873 and 0.853, respectively), execution time is a critical factor for real-world fraud detection. Logistic regression boasts a significant advantage here, with a training execution time 98.13% faster than random forest. This rapid training allows for frequent model updates to stay ahead of evolving fraudster tactics.\n",
        "<br><br>\n",
        "Furthermore, both models offer good precision, but logistic regression exhibits a slight edge with fewer False Positives (0) compared to random forest's 2. False positives can inconvenience legitimate customers, whereas False Negatives (missed fraud) pose a financial risk. However, logistic regression has a higher number of False Negatives (22) compared to random forest's 19. Out of all three, random forest scored the highest value for AUC (0.873) compared to logistic regression's 0.853 and neural networks's 0.627. AUC is less affected by class imbalance compared to accuracy, which credit card fraud is prone to.\n",
        "<br><br>\n",
        "Considering these factors, logistic regression emerges as the most effective model for this specific scenario based on the given data and chosen parameters. It offers a strong balance between accuracy, low false positive rate, and the critical advantage of fast training times for adapting to evolving fraud patterns."
      ],
      "metadata": {
        "id": "ZqiV2DLhfXZb"
      }
    },
    {
      "cell_type": "markdown",
      "source": [
        "### Results for Research Question 2\n",
        "What three variables contribute the most to the logistic regression algorithm’s performance?\n",
        "\n",
        "To identify the most impactful features for logistic regression performance in this scenario, we'll examine the absolute values of the coefficients generated by the model."
      ],
      "metadata": {
        "id": "wtq2VMqXeuAa"
      }
    },
    {
      "cell_type": "code",
      "source": [
        "# display coefs in order by absolute value beside their original value(to retain sign)\n",
        "import pandas as pd\n",
        "lr_coefs = pd.Series(lr_model.coef_[0], index=train_df.drop('Class', axis=1).columns).sort_values(ascending=True)\n",
        "top_31_coefs = lr_coefs.abs().nlargest(31)\n",
        "top_31_original_coefs = lr_coefs[top_31_coefs.index]\n",
        "\n",
        "lr_coef_df = pd.DataFrame({\n",
        "    'Original Coefficient': top_31_original_coefs,\n",
        "    'Absolute Coefficient': top_31_coefs\n",
        "})\n",
        "\n",
        "print(lr_coef_df.to_string())\n"
      ],
      "metadata": {
        "colab": {
          "base_uri": "https://localhost:8080/"
        },
        "id": "r8PmcI4jll8a",
        "outputId": "952fe0bd-5ca8-4c21-9b3a-e0275069d509"
      },
      "execution_count": null,
      "outputs": [
        {
          "output_type": "stream",
          "name": "stdout",
          "text": [
            "        Original Coefficient  Absolute Coefficient\n",
            "V14                -0.785693              0.785693\n",
            "V16                -0.780640              0.780640\n",
            "V3                 -0.775652              0.775652\n",
            "V22                 0.620137              0.620137\n",
            "V4                  0.610572              0.610572\n",
            "V8                 -0.583487              0.583487\n",
            "V25                -0.557383              0.557383\n",
            "V9                 -0.543595              0.543595\n",
            "V13                -0.540557              0.540557\n",
            "V15                -0.529178              0.529178\n",
            "V10                -0.494643              0.494643\n",
            "V12                -0.418456              0.418456\n",
            "V1                  0.392405              0.392405\n",
            "V7                  0.379040              0.379040\n",
            "V21                 0.351801              0.351801\n",
            "V11                -0.338688              0.338688\n",
            "V2                 -0.336068              0.336068\n",
            "V18                -0.311745              0.311745\n",
            "V23                -0.214129              0.214129\n",
            "V20                -0.181860              0.181860\n",
            "V28                 0.157536              0.157536\n",
            "V24                 0.153415              0.153415\n",
            "V19                 0.049694              0.049694\n",
            "V26                 0.047176              0.047176\n",
            "V27                -0.040669              0.040669\n",
            "V5                 -0.021263              0.021263\n",
            "V6                 -0.009054              0.009054\n",
            "Amount             -0.002711              0.002711\n",
            "Time               -0.000049              0.000049\n"
          ]
        }
      ]
    },
    {
      "cell_type": "markdown",
      "source": [
        "Based on the absolute value of the coefficients, the three features with the most significant impact on the model's performance are V14, V16, and V3. It's worth noting that V17 was previously considered but removed due to high correlation with V16 and V12."
      ],
      "metadata": {
        "id": "Zz1mFIC-wUW2"
      }
    },
    {
      "cell_type": "markdown",
      "source": [
        "### Results for Research Question 3\n",
        "What is the relationship to the dependent variable (Class) of the three most important independent variables? Positive or negative?\n",
        "\n"
      ],
      "metadata": {
        "id": "uJb0HOoae7Gf"
      }
    },
    {
      "cell_type": "markdown",
      "source": [
        "The sign of the three most important independent variables is negative. A negative sign indicates a negative relationship with the dependent variable (Class). Even though the coefficients are negative, their absolute values determine their impact in the model. So, V14, V16, and V3 are the most influential features, and higher values of these features are associated with a lower likelihood of fraud being predicted by the model.\n",
        "<br><br>\n",
        "One potential reason for the model's focus on True Negatives (correctly identifying legitimate transactions) could be the limited number of features with positive coefficients. Only 9 out of 31 features exhibit a positive relationship with the dependent variable (Class), indicating that the model might struggle to identify fraudulent transactions based on the current features. Another potential reason could be the already mentioned class imbalance of credit card fraud datasets."
      ],
      "metadata": {
        "id": "7a_1Nf6LxIUv"
      }
    },
    {
      "cell_type": "markdown",
      "source": [
        "## Conclusion"
      ],
      "metadata": {
        "id": "HxDL3kWYgCpb"
      }
    },
    {
      "cell_type": "markdown",
      "source": [
        "In conclusion, my analysis revealed the logistic regression and random forest models achieved greater performance compared to the neural network model for credit card detection based on the provided data and selected hyperparameters. While all three models generated high AOC scores, the logistic regression model surpassed the others as the most effective model due to its balance between accuracy, low False Positive rate, and its blazing-fast training speed. The rapid training allows the model to adapt and learn in the constantly changing world of credit card fraud by incorporating new data more frequently. Independent variables that contributed to the greatest influence on the model's ability to classify fraudulent transactions are V14, V16, and V3. These coefficients have a negative relationship with the dependent variable (Class). Further investigation could involve quantifying the financial and reputational impact of misclassifications, analysis of removing other highly correlated independent variables, and continual optimization of hyperparameters in each model."
      ],
      "metadata": {
        "id": "8LSaQoHhgENj"
      }
    },
    {
      "cell_type": "markdown",
      "source": [
        "## References\n"
      ],
      "metadata": {
        "id": "Sp1Qs0KwgHOs"
      }
    },
    {
      "cell_type": "markdown",
      "source": [
        "<p>Bodepudi, H. (2021) Credit Card Fraud Detection Using Unsupervised Machine Learning Algorithms. International Journal of Computer Trend and Technology. 69 (9) https://www.ijcttjournal.org/2021/Volume-69%20Issue-8/IJCTT-V69I8P101.pdf</p>\n",
        "<p>Fu, K., Cheng, D., Tu, Y., Zhang, L. (2016). Credit Card Fraud Detection Using Convolutional Neural Networks. In: Hirose, A., Ozawa, S., Doya, K., Ikeda, K., Lee, M., Liu, D. (eds) Neural Information Processing. ICONIP 2016. Lecture Notes in Computer Science(), vol 9949. Springer, Cham. https://doi.org/10.1007/978-3-319-46675-0_531</p>\n",
        "<p>Zorion, P. K., Sachan, L. , Chhabra, R.,  Pandey, V., Fatima, H., (2023) Credit Card Financial Fraud Detection Using Deep Learning. Available at SSRN: https://ssrn.com/abstract=4629093 or http://dx.doi.org/10.2139/ssrn.4629093</p>\n",
        "\n",
        "\n"
      ],
      "metadata": {
        "id": "g5X6wXMvnYGL"
      }
    }
  ]
}